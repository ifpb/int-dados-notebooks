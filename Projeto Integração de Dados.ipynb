{
 "cells": [
  {
   "cell_type": "markdown",
   "id": "46d09add",
   "metadata": {},
   "source": [
    "## Exemplos para implementação de Data Pipelines"
   ]
  },
  {
   "cell_type": "markdown",
   "id": "e9de9614",
   "metadata": {},
   "source": [
    "### Download do arquivo de síndromes gripais do OpenDataSUS"
   ]
  },
  {
   "cell_type": "code",
   "execution_count": 3,
   "id": "f7efacf7",
   "metadata": {},
   "outputs": [
    {
     "name": "stdout",
     "output_type": "stream",
     "text": [
      "--2022-11-23 19:26:19--  https://s3.sa-east-1.amazonaws.com/ckan.saude.gov.br/SGL/2020/uf=PB/lote=1/part-00000-0508a0cd-d93a-42d4-b285-50673d466ef5.c000.csv\n",
      "Resolving s3.sa-east-1.amazonaws.com (s3.sa-east-1.amazonaws.com)... 52.95.165.88\n",
      "Connecting to s3.sa-east-1.amazonaws.com (s3.sa-east-1.amazonaws.com)|52.95.165.88|:443... connected.\n",
      "HTTP request sent, awaiting response... 200 OK\n",
      "Length: 261065782 (249M) [text/csv]\n",
      "Saving to: 'part-00000-0508a0cd-d93a-42d4-b285-50673d466ef5.c000.csv'\n",
      "\n",
      "part-00000-0508a0cd 100%[===================>] 248.97M  36.4MB/s    in 8.0s    \n",
      "\n",
      "2022-11-23 19:26:27 (31.2 MB/s) - 'part-00000-0508a0cd-d93a-42d4-b285-50673d466ef5.c000.csv' saved [261065782/261065782]\n",
      "\n"
     ]
    }
   ],
   "source": [
    "!wget https://s3.sa-east-1.amazonaws.com/ckan.saude.gov.br/SGL/2020/uf=PB/lote=1/part-00000-0508a0cd-d93a-42d4-b285-50673d466ef5.c000.csv\n",
    "\n"
   ]
  },
  {
   "cell_type": "code",
   "execution_count": 4,
   "id": "1066ccec",
   "metadata": {},
   "outputs": [
    {
     "name": "stdout",
     "output_type": "stream",
     "text": [
      "Projeto Integração de Dados.ipynb\r\n",
      "Untitled.ipynb\r\n",
      "part-00000-0508a0cd-d93a-42d4-b285-50673d466ef5.c000.csv\r\n"
     ]
    }
   ],
   "source": [
    "!ls"
   ]
  },
  {
   "cell_type": "code",
   "execution_count": 5,
   "id": "1cc53589",
   "metadata": {},
   "outputs": [],
   "source": [
    "!mv part-00000-0508a0cd-d93a-42d4-b285-50673d466ef5.c000.csv sindrome-gripal.csv"
   ]
  },
  {
   "cell_type": "code",
   "execution_count": 6,
   "id": "962a4a09",
   "metadata": {},
   "outputs": [
    {
     "name": "stdout",
     "output_type": "stream",
     "text": [
      "Projeto Integração de Dados.ipynb   sindrome-gripal.csv\r\n",
      "Untitled.ipynb\r\n"
     ]
    }
   ],
   "source": [
    "!ls"
   ]
  },
  {
   "cell_type": "code",
   "execution_count": 7,
   "id": "4299e72f",
   "metadata": {},
   "outputs": [
    {
     "name": "stdout",
     "output_type": "stream",
     "text": [
      "Requirement already satisfied: pandas in /Users/diegopessoa/opt/anaconda3/lib/python3.9/site-packages (1.4.4)\r\n",
      "Requirement already satisfied: python-dateutil>=2.8.1 in /Users/diegopessoa/opt/anaconda3/lib/python3.9/site-packages (from pandas) (2.8.2)\r\n",
      "Requirement already satisfied: pytz>=2020.1 in /Users/diegopessoa/opt/anaconda3/lib/python3.9/site-packages (from pandas) (2022.1)\r\n",
      "Requirement already satisfied: numpy>=1.18.5 in /Users/diegopessoa/opt/anaconda3/lib/python3.9/site-packages (from pandas) (1.21.5)\r\n",
      "Requirement already satisfied: six>=1.5 in /Users/diegopessoa/opt/anaconda3/lib/python3.9/site-packages (from python-dateutil>=2.8.1->pandas) (1.16.0)\r\n"
     ]
    }
   ],
   "source": [
    "!pip install pandas"
   ]
  },
  {
   "cell_type": "code",
   "execution_count": 29,
   "id": "f957fb9b",
   "metadata": {},
   "outputs": [
    {
     "data": {
      "text/html": [
       "<div>\n",
       "<style scoped>\n",
       "    .dataframe tbody tr th:only-of-type {\n",
       "        vertical-align: middle;\n",
       "    }\n",
       "\n",
       "    .dataframe tbody tr th {\n",
       "        vertical-align: top;\n",
       "    }\n",
       "\n",
       "    .dataframe thead th {\n",
       "        text-align: right;\n",
       "    }\n",
       "</style>\n",
       "<table border=\"1\" class=\"dataframe\">\n",
       "  <thead>\n",
       "    <tr style=\"text-align: right;\">\n",
       "      <th></th>\n",
       "      <th>source_id</th>\n",
       "      <th>dataNotificacao</th>\n",
       "      <th>dataInicioSintomas</th>\n",
       "      <th>sintomas</th>\n",
       "      <th>profissionalSaude</th>\n",
       "      <th>racaCor</th>\n",
       "      <th>outrosSintomas</th>\n",
       "      <th>outrasCondicoes</th>\n",
       "      <th>profissionalSeguranca</th>\n",
       "      <th>cbo</th>\n",
       "      <th>...</th>\n",
       "      <th>codigoTipoTeste3</th>\n",
       "      <th>codigoFabricanteTeste3</th>\n",
       "      <th>codigoResultadoTeste3</th>\n",
       "      <th>dataColetaTeste3</th>\n",
       "      <th>codigoEstadoTeste4</th>\n",
       "      <th>codigoTipoTeste4</th>\n",
       "      <th>codigoFabricanteTeste4</th>\n",
       "      <th>codigoResultadoTeste4</th>\n",
       "      <th>dataColetaTeste4</th>\n",
       "      <th>idade</th>\n",
       "    </tr>\n",
       "  </thead>\n",
       "  <tbody>\n",
       "    <tr>\n",
       "      <th>0</th>\n",
       "      <td>aA4Owws0YG</td>\n",
       "      <td>2020-06-10</td>\n",
       "      <td>2020-06-02</td>\n",
       "      <td>Dor de Cabeça, Tosse, Febre, Dor de Garganta</td>\n",
       "      <td>Não</td>\n",
       "      <td>Parda</td>\n",
       "      <td></td>\n",
       "      <td></td>\n",
       "      <td>Não</td>\n",
       "      <td></td>\n",
       "      <td>...</td>\n",
       "      <td></td>\n",
       "      <td></td>\n",
       "      <td></td>\n",
       "      <td></td>\n",
       "      <td></td>\n",
       "      <td></td>\n",
       "      <td></td>\n",
       "      <td></td>\n",
       "      <td></td>\n",
       "      <td>59.0</td>\n",
       "    </tr>\n",
       "    <tr>\n",
       "      <th>1</th>\n",
       "      <td>LDtfPeHDuC</td>\n",
       "      <td>2020-07-14</td>\n",
       "      <td>2020-07-07</td>\n",
       "      <td>Febre, Tosse</td>\n",
       "      <td>Não</td>\n",
       "      <td>Branca</td>\n",
       "      <td></td>\n",
       "      <td></td>\n",
       "      <td>Não</td>\n",
       "      <td></td>\n",
       "      <td>...</td>\n",
       "      <td></td>\n",
       "      <td></td>\n",
       "      <td></td>\n",
       "      <td></td>\n",
       "      <td></td>\n",
       "      <td></td>\n",
       "      <td></td>\n",
       "      <td></td>\n",
       "      <td></td>\n",
       "      <td>34.0</td>\n",
       "    </tr>\n",
       "    <tr>\n",
       "      <th>2</th>\n",
       "      <td>rPKXWXx07G</td>\n",
       "      <td>2020-11-27</td>\n",
       "      <td>2020-11-20</td>\n",
       "      <td>Coriza, Dor de Cabeça, Tosse, Febre, Dor de Ga...</td>\n",
       "      <td>Não</td>\n",
       "      <td>Branca</td>\n",
       "      <td></td>\n",
       "      <td></td>\n",
       "      <td>Não</td>\n",
       "      <td></td>\n",
       "      <td>...</td>\n",
       "      <td></td>\n",
       "      <td></td>\n",
       "      <td></td>\n",
       "      <td></td>\n",
       "      <td></td>\n",
       "      <td></td>\n",
       "      <td></td>\n",
       "      <td></td>\n",
       "      <td></td>\n",
       "      <td>27.0</td>\n",
       "    </tr>\n",
       "    <tr>\n",
       "      <th>3</th>\n",
       "      <td>XDH3Q3tLh4</td>\n",
       "      <td>2020-07-22</td>\n",
       "      <td>2020-07-10</td>\n",
       "      <td>Dor de Garganta, Tosse</td>\n",
       "      <td>Não</td>\n",
       "      <td>Branca</td>\n",
       "      <td></td>\n",
       "      <td></td>\n",
       "      <td>Sim</td>\n",
       "      <td></td>\n",
       "      <td>...</td>\n",
       "      <td></td>\n",
       "      <td></td>\n",
       "      <td></td>\n",
       "      <td></td>\n",
       "      <td></td>\n",
       "      <td></td>\n",
       "      <td></td>\n",
       "      <td></td>\n",
       "      <td></td>\n",
       "      <td>39.0</td>\n",
       "    </tr>\n",
       "    <tr>\n",
       "      <th>4</th>\n",
       "      <td>l1UvBys4aK</td>\n",
       "      <td>2020-12-01</td>\n",
       "      <td>2020-11-28</td>\n",
       "      <td>Febre, Dispneia, Dor de Garganta</td>\n",
       "      <td>Não</td>\n",
       "      <td>Parda</td>\n",
       "      <td></td>\n",
       "      <td></td>\n",
       "      <td>Não</td>\n",
       "      <td></td>\n",
       "      <td>...</td>\n",
       "      <td></td>\n",
       "      <td></td>\n",
       "      <td></td>\n",
       "      <td></td>\n",
       "      <td></td>\n",
       "      <td></td>\n",
       "      <td></td>\n",
       "      <td></td>\n",
       "      <td></td>\n",
       "      <td>24.0</td>\n",
       "    </tr>\n",
       "  </tbody>\n",
       "</table>\n",
       "<p>5 rows × 64 columns</p>\n",
       "</div>"
      ],
      "text/plain": [
       "    source_id dataNotificacao dataInicioSintomas  \\\n",
       "0  aA4Owws0YG      2020-06-10         2020-06-02   \n",
       "1  LDtfPeHDuC      2020-07-14         2020-07-07   \n",
       "2  rPKXWXx07G      2020-11-27         2020-11-20   \n",
       "3  XDH3Q3tLh4      2020-07-22         2020-07-10   \n",
       "4  l1UvBys4aK      2020-12-01         2020-11-28   \n",
       "\n",
       "                                            sintomas profissionalSaude  \\\n",
       "0       Dor de Cabeça, Tosse, Febre, Dor de Garganta               Não   \n",
       "1                                       Febre, Tosse               Não   \n",
       "2  Coriza, Dor de Cabeça, Tosse, Febre, Dor de Ga...               Não   \n",
       "3                             Dor de Garganta, Tosse               Não   \n",
       "4                   Febre, Dispneia, Dor de Garganta               Não   \n",
       "\n",
       "  racaCor outrosSintomas outrasCondicoes profissionalSeguranca cbo  ...  \\\n",
       "0   Parda                                                  Não      ...   \n",
       "1  Branca                                                  Não      ...   \n",
       "2  Branca                                                  Não      ...   \n",
       "3  Branca                                                  Sim      ...   \n",
       "4   Parda                                                  Não      ...   \n",
       "\n",
       "  codigoTipoTeste3 codigoFabricanteTeste3 codigoResultadoTeste3  \\\n",
       "0                                                                 \n",
       "1                                                                 \n",
       "2                                                                 \n",
       "3                                                                 \n",
       "4                                                                 \n",
       "\n",
       "  dataColetaTeste3 codigoEstadoTeste4 codigoTipoTeste4 codigoFabricanteTeste4  \\\n",
       "0                                                                               \n",
       "1                                                                               \n",
       "2                                                                               \n",
       "3                                                                               \n",
       "4                                                                               \n",
       "\n",
       "  codigoResultadoTeste4 dataColetaTeste4 idade  \n",
       "0                                         59.0  \n",
       "1                                         34.0  \n",
       "2                                         27.0  \n",
       "3                                         39.0  \n",
       "4                                         24.0  \n",
       "\n",
       "[5 rows x 64 columns]"
      ]
     },
     "execution_count": 29,
     "metadata": {},
     "output_type": "execute_result"
    }
   ],
   "source": [
    "import pandas as pd\n",
    "\n",
    "df = pd.read_csv('sindrome-gripal.csv', sep=\";\", encoding='utf-8', low_memory=False)\n",
    "df.fillna('', inplace=True)\n",
    "df.head()"
   ]
  },
  {
   "cell_type": "code",
   "execution_count": 32,
   "id": "a838e034",
   "metadata": {},
   "outputs": [
    {
     "name": "stdout",
     "output_type": "stream",
     "text": [
      "Collecting minio\n",
      "  Downloading minio-7.1.12-py3-none-any.whl (76 kB)\n",
      "\u001b[2K     \u001b[38;2;114;156;31m━━━━━━━━━━━━━━━━━━━━━━━━━━━━━━━━━━━━━━━\u001b[0m \u001b[32m76.2/76.2 kB\u001b[0m \u001b[31m482.8 kB/s\u001b[0m eta \u001b[36m0:00:00\u001b[0m1m685.9 kB/s\u001b[0m eta \u001b[36m0:00:01\u001b[0m\n",
      "\u001b[?25hRequirement already satisfied: certifi in /Users/diegopessoa/opt/anaconda3/lib/python3.9/site-packages (from minio) (2022.9.24)\n",
      "Requirement already satisfied: urllib3 in /Users/diegopessoa/opt/anaconda3/lib/python3.9/site-packages (from minio) (1.26.11)\n",
      "Installing collected packages: minio\n",
      "Successfully installed minio-7.1.12\n"
     ]
    }
   ],
   "source": [
    "!pip install minio"
   ]
  },
  {
   "cell_type": "markdown",
   "id": "66221dd1",
   "metadata": {},
   "source": [
    "## Preparando conexão com o MinIO"
   ]
  },
  {
   "cell_type": "code",
   "execution_count": 67,
   "id": "875f4650",
   "metadata": {},
   "outputs": [
    {
     "data": {
      "text/plain": [
       "[Bucket('baixados'), Bucket('pendentes'), Bucket('processados')]"
      ]
     },
     "execution_count": 67,
     "metadata": {},
     "output_type": "execute_result"
    }
   ],
   "source": [
    "from minio import Minio\n",
    "\n",
    "client = Minio(\"localhost:9000\", secure=False, access_key=\"FFD34B2AC56E76E8BB9E7EFD7D283\",\n",
    "    secret_key=\"47A13EFAB1CA1F253FD6F56DEF769\")\n",
    "\n",
    "existing_buckets = client.list_buckets()\n",
    "existing_buckets = [i.name for i in existing_buckets]\n",
    "if \"pendentes\" not in existing_buckets:\n",
    "    client.make_bucket(\"pendentes\")\n",
    "if \"processados\" not in existing_buckets:\n",
    "    client.make_bucket(\"processados\")\n",
    "client.list_buckets()"
   ]
  },
  {
   "cell_type": "code",
   "execution_count": 38,
   "id": "af148672",
   "metadata": {},
   "outputs": [
    {
     "name": "stdout",
     "output_type": "stream",
     "text": [
      "/Users/diegopessoa/projects/ifpb/integracao-dados/notebooks\n",
      "Projeto Integração de Dados.ipynb   sindrome-gripal.csv\n",
      "Untitled.ipynb                      sindrome-gripal.xls\n"
     ]
    }
   ],
   "source": [
    "!pwd\n",
    "!ls"
   ]
  },
  {
   "cell_type": "markdown",
   "id": "c8da8544",
   "metadata": {},
   "source": [
    "## Enviando arquivo para o MinIO"
   ]
  },
  {
   "cell_type": "code",
   "execution_count": 39,
   "id": "32afaa6a",
   "metadata": {},
   "outputs": [
    {
     "data": {
      "text/plain": [
       "<minio.helpers.ObjectWriteResult at 0x7fc530dbef10>"
      ]
     },
     "execution_count": 39,
     "metadata": {},
     "output_type": "execute_result"
    }
   ],
   "source": [
    "client.fput_object(\"pendentes\", \"sindrome-gripal.csv\", \"/Users/diegopessoa/projects/ifpb/integracao-dados/notebooks/sindrome-gripal.csv\")"
   ]
  },
  {
   "cell_type": "markdown",
   "id": "c9ecadf5",
   "metadata": {},
   "source": [
    "## Baixando arquivo do MinIO"
   ]
  },
  {
   "cell_type": "code",
   "execution_count": 68,
   "id": "32bf482b",
   "metadata": {},
   "outputs": [
    {
     "name": "stdout",
     "output_type": "stream",
     "text": [
      "                                 Film    Genre            Lead Studio  \\\n",
      "0          Zack and Miri Make a Porno  Romance  The Weinstein Company   \n",
      "1                     Youth in Revolt   Comedy  The Weinstein Company   \n",
      "2  You Will Meet a Tall Dark Stranger   Comedy            Independent   \n",
      "3                        When in Rome   Comedy                 Disney   \n",
      "4               What Happens in Vegas   Comedy                    Fox   \n",
      "\n",
      "   Audience score %  Profitability  Rotten Tomatoes % Worldwide Gross  Year  \n",
      "0                70       1.747542                 64         $41.94   2008  \n",
      "1                52       1.090000                 68         $19.62   2010  \n",
      "2                35       1.211818                 43         $26.66   2010  \n",
      "3                44       0.000000                 15         $43.04   2010  \n",
      "4                72       6.267647                 28        $219.37   2008  \n"
     ]
    }
   ],
   "source": [
    "from io import BytesIO\n",
    "\n",
    "arquivo = client.get_object(\"baixados\", \"movies.csv\")\n",
    "df = pd.read_csv(BytesIO(arquivo.read()))\n",
    "df.head()"
   ]
  },
  {
   "cell_type": "code",
   "execution_count": null,
   "id": "da125098",
   "metadata": {},
   "outputs": [],
   "source": []
  }
 ],
 "metadata": {
  "kernelspec": {
   "display_name": "Python 3.10.8 64-bit",
   "language": "python",
   "name": "python3"
  },
  "language_info": {
   "codemirror_mode": {
    "name": "ipython",
    "version": 3
   },
   "file_extension": ".py",
   "mimetype": "text/x-python",
   "name": "python",
   "nbconvert_exporter": "python",
   "pygments_lexer": "ipython3",
   "version": "3.10.8"
  },
  "vscode": {
   "interpreter": {
    "hash": "b0fa6594d8f4cbf19f97940f81e996739fb7646882a419484c72d19e05852a7e"
   }
  }
 },
 "nbformat": 4,
 "nbformat_minor": 5
}
